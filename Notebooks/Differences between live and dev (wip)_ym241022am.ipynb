{
 "cells": [
  {
   "cell_type": "markdown",
   "id": "71bb5009-4f6c-405a-9d04-aafaf65a2b33",
   "metadata": {
    "tags": []
   },
   "source": [
    "# Differences In Dabest"
   ]
  },
  {
   "cell_type": "markdown",
   "id": "f86f00f2",
   "metadata": {},
   "source": [
    "## Introduction\n",
    "Dabest was redesigned in the dev version (v 0.3.999) to accommodate the following functions:\n",
    "    \n",
    "    1. Delta-Delta\n",
    "    2. Mini-meta\n",
    "    3. Repeated measures\n",
    "\n",
    "As a result, syntax for creating dabest objects and retrieval of data from dabest objects were changed. Since the changes were not documented thoroughly, the update resulted in inconsistencies on the user end, especially when the users are just trying to plot regular dabest plots.\n",
    "\n",
    "In addition, the dev version adds the ability to process paired data via comparison to baseline or by sequential comparisons by passing the argument `paired = \"sequential\" or \"baseline\"`. This causes incompatibilities with current code, where `paired` can only receive a boolean True/False argument.\n",
    "\n",
    "Finally, accessing the results of statistical tests via `.mean_diff.statistical_tests` is now broken, possibly as a result of implementing the new `paired` arguments."
   ]
  },
  {
   "cell_type": "markdown",
   "id": "a247b1d9",
   "metadata": {
    "tags": []
   },
   "source": [
    "#### Generating simulated data and plotting a regular dabest plot"
   ]
  },
  {
   "cell_type": "code",
   "execution_count": 3,
   "id": "018ed1e6-df72-45de-9fd1-a534908cf425",
   "metadata": {},
   "outputs": [],
   "source": [
    "import os\n",
    "import numpy as np\n",
    "import pandas as pd\n",
    "import dabest\n",
    "dabest.__version__\n",
    "import matplotlib.pyplot as plt\n",
    "# create a custom palette for coloring the plots\n",
    "cPalette = ['gray', 'k', 'orangered']\n",
    "\n",
    "\n",
    "def synthesizeData(setNumber, samplesize, genotypeEffect, lightEffect, realEffect):\n",
    "    data = np.random.rand(samplesize*2, 1)\n",
    "    dataDf = pd.DataFrame(data, columns = ['Metric'])\n",
    "    dataDf['Light'] = 'Red Light On'\n",
    "    dataDf['PairedID'] = dataDf.index\n",
    "    dataDf.loc[0:samplesize-1, 'Light'] = 'Red Light Off'\n",
    "    dataDf.loc[samplesize::, 'PairedID'] = dataDf.index[0:samplesize]\n",
    "    parent1 = 'UAS' + str(setNumber)\n",
    "    parent2 = 'Gal4' + str(setNumber)\n",
    "    child = parent2 + '>' + parent1\n",
    "    dataDf['Genotype'] = parent1\n",
    "    dataDf.loc[1::3, 'Genotype'] = parent2\n",
    "    dataDf.loc[2::3, 'Genotype'] = child\n",
    "    dataDf['Status'] = 'Sibling'\n",
    "    dataDf.loc[dataDf['Genotype'] == child, 'Status'] = 'Offspring'\n",
    "    dataDf.loc[dataDf['Genotype'] == child, 'Metric'] = dataDf.loc[dataDf['Genotype'] == child, 'Metric'] + genotypeEffect\n",
    "    dataDf.loc[dataDf['Light'] == 'Red Light On', 'Metric'] = dataDf.loc[dataDf['Light'] == 'Red Light On', 'Metric'] + lightEffect\n",
    "    dataDf.loc[(dataDf['Genotype'] == child) & (dataDf['Light'] == 'Red Light On'), 'Metric'] = dataDf.loc[(dataDf['Genotype'] == child) & (dataDf['Light'] == 'Red Light On'), 'Metric'] + realEffect\n",
    "    return dataDf\n",
    "\n",
    "dataDf1 = synthesizeData(1, 60, -0.1, 0.05, 0.5)"
   ]
  },
  {
   "cell_type": "code",
   "execution_count": 18,
   "id": "f2cf6595",
   "metadata": {},
   "outputs": [
    {
     "data": {
      "text/plain": [
       "'0.3.9999'"
      ]
     },
     "execution_count": 18,
     "metadata": {},
     "output_type": "execute_result"
    }
   ],
   "source": [
    "dabest.__version__\n",
    "\n"
   ]
  },
  {
   "cell_type": "code",
   "execution_count": 5,
   "id": "25729227",
   "metadata": {},
   "outputs": [
    {
     "data": {
      "text/html": [
       "<div>\n",
       "<style scoped>\n",
       "    .dataframe tbody tr th:only-of-type {\n",
       "        vertical-align: middle;\n",
       "    }\n",
       "\n",
       "    .dataframe tbody tr th {\n",
       "        vertical-align: top;\n",
       "    }\n",
       "\n",
       "    .dataframe thead th {\n",
       "        text-align: right;\n",
       "    }\n",
       "</style>\n",
       "<table border=\"1\" class=\"dataframe\">\n",
       "  <thead>\n",
       "    <tr style=\"text-align: right;\">\n",
       "      <th></th>\n",
       "      <th>Metric</th>\n",
       "      <th>Light</th>\n",
       "      <th>PairedID</th>\n",
       "      <th>Genotype</th>\n",
       "      <th>Status</th>\n",
       "      <th>LightStatus</th>\n",
       "    </tr>\n",
       "  </thead>\n",
       "  <tbody>\n",
       "    <tr>\n",
       "      <th>0</th>\n",
       "      <td>0.458859</td>\n",
       "      <td>Red Light Off</td>\n",
       "      <td>0</td>\n",
       "      <td>UAS1</td>\n",
       "      <td>Sibling</td>\n",
       "      <td>Red Light OffSibling</td>\n",
       "    </tr>\n",
       "    <tr>\n",
       "      <th>1</th>\n",
       "      <td>0.731475</td>\n",
       "      <td>Red Light Off</td>\n",
       "      <td>1</td>\n",
       "      <td>Gal41</td>\n",
       "      <td>Sibling</td>\n",
       "      <td>Red Light OffSibling</td>\n",
       "    </tr>\n",
       "    <tr>\n",
       "      <th>2</th>\n",
       "      <td>0.826155</td>\n",
       "      <td>Red Light Off</td>\n",
       "      <td>2</td>\n",
       "      <td>Gal41&gt;UAS1</td>\n",
       "      <td>Offspring</td>\n",
       "      <td>Red Light OffOffspring</td>\n",
       "    </tr>\n",
       "    <tr>\n",
       "      <th>3</th>\n",
       "      <td>0.672531</td>\n",
       "      <td>Red Light Off</td>\n",
       "      <td>3</td>\n",
       "      <td>UAS1</td>\n",
       "      <td>Sibling</td>\n",
       "      <td>Red Light OffSibling</td>\n",
       "    </tr>\n",
       "    <tr>\n",
       "      <th>4</th>\n",
       "      <td>0.513366</td>\n",
       "      <td>Red Light Off</td>\n",
       "      <td>4</td>\n",
       "      <td>Gal41</td>\n",
       "      <td>Sibling</td>\n",
       "      <td>Red Light OffSibling</td>\n",
       "    </tr>\n",
       "  </tbody>\n",
       "</table>\n",
       "</div>"
      ],
      "text/plain": [
       "     Metric          Light  PairedID    Genotype     Status  \\\n",
       "0  0.458859  Red Light Off         0        UAS1    Sibling   \n",
       "1  0.731475  Red Light Off         1       Gal41    Sibling   \n",
       "2  0.826155  Red Light Off         2  Gal41>UAS1  Offspring   \n",
       "3  0.672531  Red Light Off         3        UAS1    Sibling   \n",
       "4  0.513366  Red Light Off         4       Gal41    Sibling   \n",
       "\n",
       "              LightStatus  \n",
       "0    Red Light OffSibling  \n",
       "1    Red Light OffSibling  \n",
       "2  Red Light OffOffspring  \n",
       "3    Red Light OffSibling  \n",
       "4    Red Light OffSibling  "
      ]
     },
     "execution_count": 5,
     "metadata": {},
     "output_type": "execute_result"
    }
   ],
   "source": [
    "dataDf1['LightStatus'] = dataDf1['Light']+dataDf1['Status']\n",
    "dataDf1.head()"
   ]
  },
  {
   "cell_type": "code",
   "execution_count": 6,
   "id": "88174c73",
   "metadata": {},
   "outputs": [
    {
     "name": "stderr",
     "output_type": "stream",
     "text": [
      "/Users/xusy/opt/anaconda3/envs/dabestnew/lib/python3.9/site-packages/IPython/core/pylabtools.py:151: UserWarning: This figure includes Axes that are not compatible with tight_layout, so results might be incorrect.\n",
      "  fig.canvas.print_figure(bytes_io, **kw)\n"
     ]
    },
    {
     "data": {
      "image/png": "[encoded data removed]",
      "text/plain": [
       "<Figure size 600x600 with 2 Axes>"
      ]
     },
     "metadata": {
      "needs_background": "light"
     },
     "output_type": "display_data"
    }
   ],
   "source": [
    "contrast_unpaired = dabest.load(data = dataDf1, x ='LightStatus', y = 'Metric', idx = (('Red Light OffSibling', 'Red Light OffOffspring'),\n",
    "       ('Red Light OnSibling', 'Red Light OnOffspring')))\n",
    "f_unpaired = contrast_unpaired.mean_diff.plot()"
   ]
  },
  {
   "cell_type": "code",
   "execution_count": 50,
   "id": "5c37d015",
   "metadata": {},
   "outputs": [
    {
     "data": {
      "text/html": [
       "<div>\n",
       "<style scoped>\n",
       "    .dataframe tbody tr th:only-of-type {\n",
       "        vertical-align: middle;\n",
       "    }\n",
       "\n",
       "    .dataframe tbody tr th {\n",
       "        vertical-align: top;\n",
       "    }\n",
       "\n",
       "    .dataframe thead th {\n",
       "        text-align: right;\n",
       "    }\n",
       "</style>\n",
       "<table border=\"1\" class=\"dataframe\">\n",
       "  <thead>\n",
       "    <tr style=\"text-align: right;\">\n",
       "      <th></th>\n",
       "      <th>control</th>\n",
       "      <th>test</th>\n",
       "      <th>control_N</th>\n",
       "      <th>test_N</th>\n",
       "      <th>effect_size</th>\n",
       "      <th>difference</th>\n",
       "      <th>ci</th>\n",
       "      <th>bca_low</th>\n",
       "      <th>bca_high</th>\n",
       "      <th>bca_interval_idx</th>\n",
       "      <th>...</th>\n",
       "      <th>permutations</th>\n",
       "      <th>pvalue_permutation</th>\n",
       "      <th>permutation_count</th>\n",
       "      <th>permutations_var</th>\n",
       "      <th>pvalue_welch</th>\n",
       "      <th>statistic_welch</th>\n",
       "      <th>pvalue_students_t</th>\n",
       "      <th>statistic_students_t</th>\n",
       "      <th>pvalue_mann_whitney</th>\n",
       "      <th>statistic_mann_whitney</th>\n",
       "    </tr>\n",
       "  </thead>\n",
       "  <tbody>\n",
       "    <tr>\n",
       "      <th>0</th>\n",
       "      <td>Red Light OffSibling</td>\n",
       "      <td>Red Light OffOffspring</td>\n",
       "      <td>40</td>\n",
       "      <td>20</td>\n",
       "      <td>mean difference</td>\n",
       "      <td>-0.140313</td>\n",
       "      <td>95</td>\n",
       "      <td>-0.303120</td>\n",
       "      <td>0.019293</td>\n",
       "      <td>(128, 4878)</td>\n",
       "      <td>...</td>\n",
       "      <td>[-0.08677791475180774, -0.08465622359054836, -...</td>\n",
       "      <td>0.0938</td>\n",
       "      <td>5000</td>\n",
       "      <td>[0.006116893370582743, 0.0074812722891417095, ...</td>\n",
       "      <td>0.104258</td>\n",
       "      <td>1.668362</td>\n",
       "      <td>0.088861</td>\n",
       "      <td>1.730487</td>\n",
       "      <td>0.083135</td>\n",
       "      <td>511.0</td>\n",
       "    </tr>\n",
       "    <tr>\n",
       "      <th>1</th>\n",
       "      <td>Red Light OnSibling</td>\n",
       "      <td>Red Light OnOffspring</td>\n",
       "      <td>40</td>\n",
       "      <td>20</td>\n",
       "      <td>mean difference</td>\n",
       "      <td>0.412709</td>\n",
       "      <td>95</td>\n",
       "      <td>0.266302</td>\n",
       "      <td>0.562394</td>\n",
       "      <td>(130, 4880)</td>\n",
       "      <td>...</td>\n",
       "      <td>[0.07038674934054112, -0.13284906495220283, -0...</td>\n",
       "      <td>0.0000</td>\n",
       "      <td>5000</td>\n",
       "      <td>[0.009409946087692161, 0.008470857374211696, 0...</td>\n",
       "      <td>0.000004</td>\n",
       "      <td>-5.339787</td>\n",
       "      <td>0.000002</td>\n",
       "      <td>-5.283120</td>\n",
       "      <td>0.000022</td>\n",
       "      <td>129.0</td>\n",
       "    </tr>\n",
       "  </tbody>\n",
       "</table>\n",
       "<p>2 rows × 26 columns</p>\n",
       "</div>"
      ],
      "text/plain": [
       "                control                    test  control_N  test_N  \\\n",
       "0  Red Light OffSibling  Red Light OffOffspring         40      20   \n",
       "1   Red Light OnSibling   Red Light OnOffspring         40      20   \n",
       "\n",
       "       effect_size  difference  ci   bca_low  bca_high bca_interval_idx  ...  \\\n",
       "0  mean difference   -0.140313  95 -0.303120  0.019293      (128, 4878)  ...   \n",
       "1  mean difference    0.412709  95  0.266302  0.562394      (130, 4880)  ...   \n",
       "\n",
       "                                        permutations  pvalue_permutation  \\\n",
       "0  [-0.08677791475180774, -0.08465622359054836, -...              0.0938   \n",
       "1  [0.07038674934054112, -0.13284906495220283, -0...              0.0000   \n",
       "\n",
       "  permutation_count                                   permutations_var  \\\n",
       "0              5000  [0.006116893370582743, 0.0074812722891417095, ...   \n",
       "1              5000  [0.009409946087692161, 0.008470857374211696, 0...   \n",
       "\n",
       "   pvalue_welch  statistic_welch pvalue_students_t  statistic_students_t  \\\n",
       "0      0.104258         1.668362          0.088861              1.730487   \n",
       "1      0.000004        -5.339787          0.000002             -5.283120   \n",
       "\n",
       "   pvalue_mann_whitney statistic_mann_whitney  \n",
       "0             0.083135                  511.0  \n",
       "1             0.000022                  129.0  \n",
       "\n",
       "[2 rows x 26 columns]"
      ]
     },
     "execution_count": 50,
     "metadata": {},
     "output_type": "execute_result"
    }
   ],
   "source": [
    "contrast_unpaired.mean_diff.results"
   ]
  },
  {
   "cell_type": "markdown",
   "id": "94ecbcdb-5f07-454d-86f8-53ee049868c9",
   "metadata": {},
   "source": [
    "## 1. Locating the statistical results in a dabest object (Delta-delta)\n",
    "\n",
    "#### In the original Dabest:\n",
    "\n",
    "Effects and results of other statistical comparisons are stored in the dabest object in the property `.results`. E.g. `.mean_diff.results`. In original design, each of the items in `.results` is a list of length n, where n is the total number of bootstraps performed in the plot. \n",
    "\n",
    "#### In the dev version:\n",
    "\n",
    "The `.mean_diff.results.bootstraps` only contains two arrays, omitting the delta delta bootstraps\n",
    "\n",
    "Instead, the delta delta bootstraps are now found via `.mean_diff.delta_delta.bootstraps_delta_delta`.\n",
    "\n",
    "Same situation with selecting the CIs or the mean difference.\n",
    "\n",
    "This marks a significant departure from the old use case and confused users, and needs to be documented or redesigned.\n",
    "\n",
    "Ideally, for delta delta experiments, since there are typically two comparisons, each item in `.results` would have a length of 3, 2 for the 2 deltas, and 1 for the delta-delta. For example, you could use `.mean_diff.results.bootstraps` to find the bootstraps (resampled data points), and it would contain 3 arrays. The first two would be for the mean diff:\n",
    "\n",
    "`.mean_diff.results.bootstraps[0]`   or   `.mean_diff.results.bootstraps[1]`\n",
    "\n",
    "The third would be for the delta delta:\n",
    "\n",
    "`.mean_diff.results.bootstraps[2]`"
   ]
  },
  {
   "cell_type": "code",
   "execution_count": 51,
   "id": "7fcfa70d-da0d-42a4-bc4c-a807d625b193",
   "metadata": {},
   "outputs": [
    {
     "name": "stderr",
     "output_type": "stream",
     "text": [
      "C:\\Users\\maiyi\\anaconda3\\lib\\site-packages\\IPython\\core\\pylabtools.py:151: UserWarning: This figure includes Axes that are not compatible with tight_layout, so results might be incorrect.\n",
      "  fig.canvas.print_figure(bytes_io, **kw)\n"
     ]
    },
    {
     "data": {
      "image/png": "[encoded data removed]",
      "text/plain": [
       "<Figure size 900x600 with 3 Axes>"
      ]
     },
     "metadata": {
      "needs_background": "light"
     },
     "output_type": "display_data"
    }
   ],
   "source": [
    "contrast_delta2 = dabest.load(data = dataDf1,\n",
    "                       x=['Status', 'Genotype'], # the default for this test config is to group flies by genotype\n",
    "                       y='Metric',\n",
    "                        delta2 = True, \n",
    "                        experiment = 'Light')\n",
    "f_delta2 = contrast_delta2.mean_diff.plot()"
   ]
  },
  {
   "cell_type": "code",
   "execution_count": 14,
   "id": "6b0f52ce",
   "metadata": {},
   "outputs": [
    {
     "ename": "IndexError",
     "evalue": "`idx` is not a column in `data`. Please check.",
     "output_type": "error",
     "traceback": [
      "\u001b[0;31m---------------------------------------------------------------------------\u001b[0m",
      "\u001b[0;31mIndexError\u001b[0m                                Traceback (most recent call last)",
      "\u001b[0;32m/var/folders/kq/4l8hqns14tq268_3hslhmf8w_wkd22/T/ipykernel_36520/2927580349.py\u001b[0m in \u001b[0;36m<module>\u001b[0;34m\u001b[0m\n\u001b[0;32m----> 1\u001b[0;31m contrast_delta2 = dabest.load(data = dataDf1,\n\u001b[0m\u001b[1;32m      2\u001b[0m                        \u001b[0mx\u001b[0m\u001b[0;34m=\u001b[0m\u001b[0;34m[\u001b[0m \u001b[0;34m'Status'\u001b[0m\u001b[0;34m,\u001b[0m \u001b[0;34m'Genotype'\u001b[0m\u001b[0;34m]\u001b[0m\u001b[0;34m,\u001b[0m \u001b[0;31m# the default for this test config is to group flies by genotype\u001b[0m\u001b[0;34m\u001b[0m\u001b[0;34m\u001b[0m\u001b[0m\n\u001b[1;32m      3\u001b[0m                        \u001b[0my\u001b[0m\u001b[0;34m=\u001b[0m\u001b[0;34m'Metric'\u001b[0m\u001b[0;34m,\u001b[0m\u001b[0;34m\u001b[0m\u001b[0;34m\u001b[0m\u001b[0m\n\u001b[1;32m      4\u001b[0m                         \u001b[0mdelta2\u001b[0m \u001b[0;34m=\u001b[0m \u001b[0;32mFalse\u001b[0m\u001b[0;34m,\u001b[0m\u001b[0;34m\u001b[0m\u001b[0;34m\u001b[0m\u001b[0m\n\u001b[1;32m      5\u001b[0m                         experiment = 'Light')\n",
      "\u001b[0;32m~/opt/anaconda3/envs/dabestnew/lib/python3.9/site-packages/dabest/_api.py\u001b[0m in \u001b[0;36mload\u001b[0;34m(data, idx, x, y, paired, id_col, ci, resamples, random_seed, proportional, delta2, experiment, experiment_label, x1_level, mini_meta)\u001b[0m\n\u001b[1;32m     86\u001b[0m     \u001b[0;32mfrom\u001b[0m \u001b[0;34m.\u001b[0m\u001b[0m_classes\u001b[0m \u001b[0;32mimport\u001b[0m \u001b[0mDabest\u001b[0m\u001b[0;34m\u001b[0m\u001b[0;34m\u001b[0m\u001b[0m\n\u001b[1;32m     87\u001b[0m \u001b[0;34m\u001b[0m\u001b[0m\n\u001b[0;32m---> 88\u001b[0;31m     \u001b[0;32mreturn\u001b[0m \u001b[0mDabest\u001b[0m\u001b[0;34m(\u001b[0m\u001b[0mdata\u001b[0m\u001b[0;34m,\u001b[0m \u001b[0midx\u001b[0m\u001b[0;34m,\u001b[0m \u001b[0mx\u001b[0m\u001b[0;34m,\u001b[0m \u001b[0my\u001b[0m\u001b[0;34m,\u001b[0m \u001b[0mpaired\u001b[0m\u001b[0;34m,\u001b[0m \u001b[0mid_col\u001b[0m\u001b[0;34m,\u001b[0m \u001b[0mci\u001b[0m\u001b[0;34m,\u001b[0m \u001b[0mresamples\u001b[0m\u001b[0;34m,\u001b[0m \u001b[0mrandom_seed\u001b[0m\u001b[0;34m,\u001b[0m \u001b[0mproportional\u001b[0m\u001b[0;34m,\u001b[0m \u001b[0mdelta2\u001b[0m\u001b[0;34m,\u001b[0m \u001b[0mexperiment\u001b[0m\u001b[0;34m,\u001b[0m \u001b[0mexperiment_label\u001b[0m\u001b[0;34m,\u001b[0m \u001b[0mx1_level\u001b[0m\u001b[0;34m,\u001b[0m \u001b[0mmini_meta\u001b[0m\u001b[0;34m)\u001b[0m\u001b[0;34m\u001b[0m\u001b[0;34m\u001b[0m\u001b[0m\n\u001b[0m\u001b[1;32m     89\u001b[0m \u001b[0;34m\u001b[0m\u001b[0m\n",
      "\u001b[0;32m~/opt/anaconda3/envs/dabestnew/lib/python3.9/site-packages/dabest/_classes.py\u001b[0m in \u001b[0;36m__init__\u001b[0;34m(self, data, idx, x, y, paired, id_col, ci, resamples, random_seed, proportional, delta2, experiment, experiment_label, x1_level, mini_meta)\u001b[0m\n\u001b[1;32m    132\u001b[0m         \u001b[0;32mif\u001b[0m \u001b[0mdelta2\u001b[0m \u001b[0;32mis\u001b[0m \u001b[0;32mFalse\u001b[0m \u001b[0;32mand\u001b[0m \u001b[0;32mnot\u001b[0m \u001b[0midx\u001b[0m\u001b[0;34m:\u001b[0m\u001b[0;34m\u001b[0m\u001b[0;34m\u001b[0m\u001b[0m\n\u001b[1;32m    133\u001b[0m             \u001b[0merr\u001b[0m \u001b[0;34m=\u001b[0m \u001b[0;34m'`idx` is not a column in `data`. Please check.'\u001b[0m\u001b[0;34m\u001b[0m\u001b[0;34m\u001b[0m\u001b[0m\n\u001b[0;32m--> 134\u001b[0;31m             \u001b[0;32mraise\u001b[0m \u001b[0mIndexError\u001b[0m\u001b[0;34m(\u001b[0m\u001b[0merr\u001b[0m\u001b[0;34m)\u001b[0m\u001b[0;34m\u001b[0m\u001b[0;34m\u001b[0m\u001b[0m\n\u001b[0m\u001b[1;32m    135\u001b[0m \u001b[0;34m\u001b[0m\u001b[0m\n\u001b[1;32m    136\u001b[0m \u001b[0;34m\u001b[0m\u001b[0m\n",
      "\u001b[0;31mIndexError\u001b[0m: `idx` is not a column in `data`. Please check."
     ]
    }
   ],
   "source": [
    "contrast_delta2 = dabest.load(data = dataDf1,\n",
    "                       x=[ 'Status', 'Genotype'], # the default for this test config is to group flies by genotype\n",
    "                       y='Metric',\n",
    "                        delta2 = False, \n",
    "                        experiment = 'Light')\n",
    "f_delta2 = contrast_delta2.mean_diff.plot()"
   ]
  },
  {
   "cell_type": "code",
   "execution_count": 7,
   "id": "0a7cae6f",
   "metadata": {},
   "outputs": [],
   "source": [
    "dabest.load?"
   ]
  },
  {
   "cell_type": "code",
   "execution_count": 52,
   "id": "be205464-8182-436a-91ad-8059a671f249",
   "metadata": {},
   "outputs": [
    {
     "data": {
      "text/plain": [
       "DABEST v0.3.9999\n",
       "================\n",
       "                \n",
       "Good morning!\n",
       "The current time is Mon Oct 24 11:27:13 2022.\n",
       "\n",
       "The delta-delta between Red Light Off and Red Light On is 0.553 [95%CI 0.313, 0.804].\n",
       "The p-value of the two-sided permutation t-test is 0.0, calculated for legacy purposes only. \n",
       "\n",
       "5000 bootstrap samples were taken; the confidence interval is bias-corrected and accelerated.\n",
       "Any p-value reported is the probability of observing theeffect size (or greater),\n",
       "assuming the null hypothesis ofzero difference is true.\n",
       "For each p-value, 5000 reshuffles of the control and test labels were performed."
      ]
     },
     "execution_count": 52,
     "metadata": {},
     "output_type": "execute_result"
    }
   ],
   "source": [
    "contrast_delta2.mean_diff.delta_delta"
   ]
  },
  {
   "cell_type": "code",
   "execution_count": 56,
   "id": "a974a27a-16ea-48b7-a57a-2da5ef02cfe5",
   "metadata": {},
   "outputs": [
    {
     "data": {
      "text/plain": [
       "array([0.2717344 , 0.54897786, 0.48337985, ..., 0.5297525 , 0.49912449,\n",
       "       0.49243061])"
      ]
     },
     "execution_count": 56,
     "metadata": {},
     "output_type": "execute_result"
    }
   ],
   "source": [
    "contrast_delta2.mean_diff.delta_delta.bootstraps_delta_delta"
   ]
  },
  {
   "cell_type": "markdown",
   "id": "5e8190d0-75c7-4e2f-9b8b-08ae75fb1811",
   "metadata": {},
   "source": [
    "## 2. Mini-meta\n",
    "\n",
    "Mini-meta suffers from largely the same problems as the delta-delta plots, i.e. difficulty accessing the weighted-delta results and attributes."
   ]
  },
  {
   "cell_type": "code",
   "execution_count": 57,
   "id": "70419808-073d-40bf-b2a9-9ac0a5729698",
   "metadata": {},
   "outputs": [
    {
     "name": "stderr",
     "output_type": "stream",
     "text": [
      "C:\\Users\\maiyi\\anaconda3\\lib\\site-packages\\IPython\\core\\pylabtools.py:151: UserWarning: This figure includes Axes that are not compatible with tight_layout, so results might be incorrect.\n",
      "  fig.canvas.print_figure(bytes_io, **kw)\n"
     ]
    },
    {
     "data": {
      "image/png": "[encoded data removed]",
      "text/plain": [
       "<Figure size 1200x600 with 2 Axes>"
      ]
     },
     "metadata": {
      "needs_background": "light"
     },
     "output_type": "display_data"
    }
   ],
   "source": [
    "dataDf2 = synthesizeData(1, 60, -0.05, 0.1, -0.3)\n",
    "dataDf3 = synthesizeData(1, 60, 0.00, 0.1, 0.4)\n",
    "\n",
    "dataDf1_rename = dataDf1.replace({\"Sibling\" : \"Sibling 1\" , \"Offspring\" : \"Offspring 1\"})\n",
    "dataDf2_rename = dataDf2.replace({\"Sibling\" : \"Sibling 2\" , \"Offspring\" : \"Offspring 2\"})\n",
    "dataDf3_rename = dataDf3.replace({\"Sibling\" : \"Sibling 3\" , \"Offspring\" : \"Offspring 3\"})\n",
    "\n",
    "data_forMiniMeta2 = pd.concat([dataDf1_rename, dataDf2_rename, dataDf3_rename])\n",
    "data_forMiniMeta2 = data_forMiniMeta2.loc[(data_forMiniMeta2[\"Light\"].str.contains(\"On\"))]\n",
    "data_forMiniMeta2\n",
    "\n",
    "contrast_minimeta = dabest.load(data = data_forMiniMeta2,\n",
    "                        idx = (('Sibling 1', 'Offspring 1'),\n",
    "                             ('Sibling 2', 'Offspring 2'),\n",
    "                              ('Sibling 3', 'Offspring 3')),\n",
    "                        x = \"Status\",\n",
    "                        y = \"Metric\",\n",
    "                        mini_meta = True, \n",
    "                        id_col=\"PairedID\"\n",
    "                      )\n",
    "\n",
    "f_minimeta = contrast_minimeta.mean_diff.plot()"
   ]
  },
  {
   "cell_type": "markdown",
   "id": "9f9e71ba-eaf1-4f22-9702-6a9cc983756f",
   "metadata": {},
   "source": [
    "#### Bootstrap attributes\n",
    "\n",
    "Somewhat confusingly, the MiniMetaDelta object has two bootstrap attributes: '.mean_diff.mini_meta_delta.bootstraps' and '.mean_diff.mini_meta_delta.bootstraps_weighted_delta'; the former outputs only the bootstraps used for each experimental pair used in the mini-meta analysis, whereas the latter outputs only the bootstraps used for the MiniMetaDelta.\n",
    "\n",
    "This is similar to the problem seen with delta-delta."
   ]
  },
  {
   "cell_type": "code",
   "execution_count": 58,
   "id": "d9d8d6ad-1d25-4243-8097-90ec9bbc84b0",
   "metadata": {},
   "outputs": [
    {
     "data": {
      "text/plain": [
       "array([array([0.29720369, 0.42025048, 0.32688438, ..., 0.39841942, 0.38514193,\n",
       "              0.35294674])                                                    ,\n",
       "       array([-0.35256387, -0.35062128, -0.28568478, ..., -0.30607492,\n",
       "              -0.36002965, -0.42777809])                              ,\n",
       "       array([0.26419109, 0.38548529, 0.42445636, ..., 0.29211662, 0.30389348,\n",
       "              0.38067019])                                                    ],\n",
       "      dtype=object)"
      ]
     },
     "execution_count": 58,
     "metadata": {},
     "output_type": "execute_result"
    }
   ],
   "source": [
    "contrast_minimeta.mean_diff.mini_meta_delta.bootstraps"
   ]
  },
  {
   "cell_type": "code",
   "execution_count": 59,
   "id": "833c3985-4adf-4375-a59b-7f54f895ea28",
   "metadata": {},
   "outputs": [
    {
     "data": {
      "text/plain": [
       "array([0.03112771, 0.10572341, 0.10939276, ..., 0.09166022, 0.06875418,\n",
       "       0.05070886])"
      ]
     },
     "execution_count": 59,
     "metadata": {},
     "output_type": "execute_result"
    }
   ],
   "source": [
    "contrast_minimeta.mean_diff.mini_meta_delta.bootstraps_weighted_delta"
   ]
  },
  {
   "cell_type": "markdown",
   "id": "a5e9e0b1-6031-492d-9e8b-eddf8e9650fb",
   "metadata": {},
   "source": [
    "#### Mean difference and statistical tests\n",
    "\n",
    "The results of `.mean_diff` outputs the mean difference and confidence intervals for all three replicates as well as the delta-delta. However, `.mean_diff.results` only outputs the results for the original three replicates. "
   ]
  },
  {
   "cell_type": "code",
   "execution_count": 60,
   "id": "88e95120-2dde-4a28-bd4c-1a3138727fde",
   "metadata": {},
   "outputs": [
    {
     "data": {
      "text/plain": [
       "DABEST v0.3.9999\n",
       "================\n",
       "                \n",
       "Good morning!\n",
       "The current time is Mon Oct 24 11:27:50 2022.\n",
       "\n",
       "The unpaired mean difference between Sibling 1 and Offspring 1 is 0.413 [95%CI 0.266, 0.562].\n",
       "The p-value of the two-sided permutation t-test is 0.0, calculated for legacy purposes only. \n",
       "\n",
       "The unpaired mean difference between Sibling 2 and Offspring 2 is -0.373 [95%CI -0.502, -0.223].\n",
       "The p-value of the two-sided permutation t-test is 0.0, calculated for legacy purposes only. \n",
       "\n",
       "The unpaired mean difference between Sibling 3 and Offspring 3 is 0.369 [95%CI 0.202, 0.549].\n",
       "The p-value of the two-sided permutation t-test is 0.0, calculated for legacy purposes only. \n",
       "\n",
       "The weighted-average unpaired mean differences is 0.0899 [95%CI 0.01, 0.174].\n",
       "The p-value of the two-sided permutation t-test is 0.0576, calculated for legacy purposes only. \n",
       "\n",
       "5000 bootstrap samples were taken; the confidence interval is bias-corrected and accelerated.\n",
       "Any p-value reported is the probability of observing theeffect size (or greater),\n",
       "assuming the null hypothesis ofzero difference is true.\n",
       "For each p-value, 5000 reshuffles of the control and test labels were performed.\n",
       "\n",
       "To get the results of all valid statistical tests, use `.mean_diff.statistical_tests`"
      ]
     },
     "execution_count": 60,
     "metadata": {},
     "output_type": "execute_result"
    }
   ],
   "source": [
    "contrast_minimeta.mean_diff"
   ]
  },
  {
   "cell_type": "code",
   "execution_count": 61,
   "id": "1b1f976c-8dca-4b54-9ec2-1c6c0751b7ac",
   "metadata": {},
   "outputs": [
    {
     "data": {
      "text/html": [
       "<div>\n",
       "<style scoped>\n",
       "    .dataframe tbody tr th:only-of-type {\n",
       "        vertical-align: middle;\n",
       "    }\n",
       "\n",
       "    .dataframe tbody tr th {\n",
       "        vertical-align: top;\n",
       "    }\n",
       "\n",
       "    .dataframe thead th {\n",
       "        text-align: right;\n",
       "    }\n",
       "</style>\n",
       "<table border=\"1\" class=\"dataframe\">\n",
       "  <thead>\n",
       "    <tr style=\"text-align: right;\">\n",
       "      <th></th>\n",
       "      <th>control</th>\n",
       "      <th>test</th>\n",
       "      <th>control_N</th>\n",
       "      <th>test_N</th>\n",
       "      <th>effect_size</th>\n",
       "      <th>difference</th>\n",
       "      <th>ci</th>\n",
       "      <th>bca_low</th>\n",
       "      <th>bca_high</th>\n",
       "      <th>bca_interval_idx</th>\n",
       "      <th>...</th>\n",
       "      <th>permutations</th>\n",
       "      <th>pvalue_permutation</th>\n",
       "      <th>permutation_count</th>\n",
       "      <th>permutations_var</th>\n",
       "      <th>pvalue_welch</th>\n",
       "      <th>statistic_welch</th>\n",
       "      <th>pvalue_students_t</th>\n",
       "      <th>statistic_students_t</th>\n",
       "      <th>pvalue_mann_whitney</th>\n",
       "      <th>statistic_mann_whitney</th>\n",
       "    </tr>\n",
       "  </thead>\n",
       "  <tbody>\n",
       "    <tr>\n",
       "      <th>0</th>\n",
       "      <td>Sibling 1</td>\n",
       "      <td>Offspring 1</td>\n",
       "      <td>40</td>\n",
       "      <td>20</td>\n",
       "      <td>mean difference</td>\n",
       "      <td>0.412709</td>\n",
       "      <td>95</td>\n",
       "      <td>0.266302</td>\n",
       "      <td>0.562394</td>\n",
       "      <td>(130, 4880)</td>\n",
       "      <td>...</td>\n",
       "      <td>[0.07038674934054112, -0.13284906495220283, -0...</td>\n",
       "      <td>0.0</td>\n",
       "      <td>5000</td>\n",
       "      <td>[0.009409946087692161, 0.008470857374211696, 0...</td>\n",
       "      <td>0.000004</td>\n",
       "      <td>-5.339787</td>\n",
       "      <td>0.000002</td>\n",
       "      <td>-5.283120</td>\n",
       "      <td>0.000022</td>\n",
       "      <td>129.0</td>\n",
       "    </tr>\n",
       "    <tr>\n",
       "      <th>1</th>\n",
       "      <td>Sibling 2</td>\n",
       "      <td>Offspring 2</td>\n",
       "      <td>40</td>\n",
       "      <td>20</td>\n",
       "      <td>mean difference</td>\n",
       "      <td>-0.373202</td>\n",
       "      <td>95</td>\n",
       "      <td>-0.501652</td>\n",
       "      <td>-0.222652</td>\n",
       "      <td>(161, 4905)</td>\n",
       "      <td>...</td>\n",
       "      <td>[0.03515229682317483, 0.07522215992929038, -0....</td>\n",
       "      <td>0.0</td>\n",
       "      <td>5000</td>\n",
       "      <td>[0.00758231098072033, 0.009293377807656794, 0....</td>\n",
       "      <td>0.000005</td>\n",
       "      <td>5.178990</td>\n",
       "      <td>0.000010</td>\n",
       "      <td>4.841001</td>\n",
       "      <td>0.000036</td>\n",
       "      <td>664.0</td>\n",
       "    </tr>\n",
       "    <tr>\n",
       "      <th>2</th>\n",
       "      <td>Sibling 3</td>\n",
       "      <td>Offspring 3</td>\n",
       "      <td>40</td>\n",
       "      <td>20</td>\n",
       "      <td>mean difference</td>\n",
       "      <td>0.369100</td>\n",
       "      <td>95</td>\n",
       "      <td>0.202435</td>\n",
       "      <td>0.549175</td>\n",
       "      <td>(144, 4892)</td>\n",
       "      <td>...</td>\n",
       "      <td>[0.20432222327612914, 0.09051528850446955, 0.0...</td>\n",
       "      <td>0.0</td>\n",
       "      <td>5000</td>\n",
       "      <td>[0.008567255122537277, 0.009882799015430335, 0...</td>\n",
       "      <td>0.000212</td>\n",
       "      <td>-4.141878</td>\n",
       "      <td>0.000064</td>\n",
       "      <td>-4.309334</td>\n",
       "      <td>0.000514</td>\n",
       "      <td>178.0</td>\n",
       "    </tr>\n",
       "  </tbody>\n",
       "</table>\n",
       "<p>3 rows × 26 columns</p>\n",
       "</div>"
      ],
      "text/plain": [
       "     control         test  control_N  test_N      effect_size  difference  ci  \\\n",
       "0  Sibling 1  Offspring 1         40      20  mean difference    0.412709  95   \n",
       "1  Sibling 2  Offspring 2         40      20  mean difference   -0.373202  95   \n",
       "2  Sibling 3  Offspring 3         40      20  mean difference    0.369100  95   \n",
       "\n",
       "    bca_low  bca_high bca_interval_idx  ...  \\\n",
       "0  0.266302  0.562394      (130, 4880)  ...   \n",
       "1 -0.501652 -0.222652      (161, 4905)  ...   \n",
       "2  0.202435  0.549175      (144, 4892)  ...   \n",
       "\n",
       "                                        permutations  pvalue_permutation  \\\n",
       "0  [0.07038674934054112, -0.13284906495220283, -0...                 0.0   \n",
       "1  [0.03515229682317483, 0.07522215992929038, -0....                 0.0   \n",
       "2  [0.20432222327612914, 0.09051528850446955, 0.0...                 0.0   \n",
       "\n",
       "  permutation_count                                   permutations_var  \\\n",
       "0              5000  [0.009409946087692161, 0.008470857374211696, 0...   \n",
       "1              5000  [0.00758231098072033, 0.009293377807656794, 0....   \n",
       "2              5000  [0.008567255122537277, 0.009882799015430335, 0...   \n",
       "\n",
       "   pvalue_welch  statistic_welch pvalue_students_t  statistic_students_t  \\\n",
       "0      0.000004        -5.339787          0.000002             -5.283120   \n",
       "1      0.000005         5.178990          0.000010              4.841001   \n",
       "2      0.000212        -4.141878          0.000064             -4.309334   \n",
       "\n",
       "   pvalue_mann_whitney statistic_mann_whitney  \n",
       "0             0.000022                  129.0  \n",
       "1             0.000036                  664.0  \n",
       "2             0.000514                  178.0  \n",
       "\n",
       "[3 rows x 26 columns]"
      ]
     },
     "execution_count": 61,
     "metadata": {},
     "output_type": "execute_result"
    }
   ],
   "source": [
    "contrast_minimeta.mean_diff.results"
   ]
  },
  {
   "cell_type": "markdown",
   "id": "6d0da6b1-1179-484a-a832-4d0a4e25bfcb",
   "metadata": {},
   "source": [
    "As a results of this, accessing individual attributes such as mean difference, CI, etc. have to be done manually by using`.mean_diff.mini_meta_delta.xx`. In addition, it is not currently possible to obtain the p-values of any statistical test other than permutation t-test for the weighted delta. The required attributes don't seem to exist. "
   ]
  },
  {
   "cell_type": "code",
   "execution_count": 62,
   "id": "35149cae-181f-49ba-815a-d6eb2e14a100",
   "metadata": {},
   "outputs": [
    {
     "data": {
      "text/plain": [
       "0.08992953087561972"
      ]
     },
     "execution_count": 62,
     "metadata": {},
     "output_type": "execute_result"
    }
   ],
   "source": [
    "contrast_minimeta.mean_diff.mini_meta_delta.difference"
   ]
  },
  {
   "cell_type": "markdown",
   "id": "480fa438-4836-459b-b52c-3a4197be61e0",
   "metadata": {
    "tags": []
   },
   "source": [
    "## 3. Paired syntax for dabest.load() method\n",
    "\n",
    "To accomodate new paradigms such as delta-delta and mini-meta, the way input arguments are passed to dabest.load() is redesigned. \n",
    "\n",
    "#### dabest live:\n",
    "\n",
    "`dabest.load(data, idx, x=None, y=None, *paired=False, id_col=None, ci=95, resamples=5000, random_seed=12345)`\n",
    "\n",
    "*paired : boolean, default False.\n",
    "\n",
    "The live dabest (including the tutorial) allows **true** or **false** for the argument `paired`\n",
    "This throws an error in the dev version, \"**True** assigned for `paired` is not valid.\"\n",
    "\n",
    "\n",
    "#### dabest dev:\n",
    "\n",
    "`dabest.load(data, idx=None, x=None, y=None, *paired=None, id_col=None, ci=95, resamples=5000, random_seed=12345, proportional=False, delta2=False, experiment=None,experiment_label=None, x1_level=None, mini_meta=False)`\n",
    "\n",
    "*paired : string, default None\n",
    "\n",
    "The dev version now uses **baseline**, **sequential**, or **None** but this is not documented in the method signature and therefore confused users. "
   ]
  },
  {
   "cell_type": "code",
   "execution_count": 63,
   "id": "30a4942a",
   "metadata": {},
   "outputs": [
    {
     "ename": "ValueError",
     "evalue": "True assigned for `paired` is not valid.",
     "output_type": "error",
     "traceback": [
      "\u001b[1;31m---------------------------------------------------------------------------\u001b[0m",
      "\u001b[1;31mValueError\u001b[0m                                Traceback (most recent call last)",
      "\u001b[1;32m~\\AppData\\Local\\Temp/ipykernel_17296/1471319640.py\u001b[0m in \u001b[0;36m<module>\u001b[1;34m\u001b[0m\n\u001b[0;32m      1\u001b[0m \u001b[1;31m### This causes an error.\u001b[0m\u001b[1;33m\u001b[0m\u001b[1;33m\u001b[0m\u001b[0m\n\u001b[0;32m      2\u001b[0m \u001b[1;33m\u001b[0m\u001b[0m\n\u001b[1;32m----> 3\u001b[1;33m contrast_paired_broken = dabest.load(data = dataDf1, x ='LightStatus', y = 'Metric', idx = (('Red Light OffSibling', 'Red Light OffOffspring'),\n\u001b[0m\u001b[0;32m      4\u001b[0m        ('Red Light OnSibling', 'Red Light OnOffspring')), paired = True)\n\u001b[0;32m      5\u001b[0m \u001b[0mcontrast_paired_broken\u001b[0m\u001b[1;33m.\u001b[0m\u001b[0mmean_diff\u001b[0m\u001b[1;33m\u001b[0m\u001b[1;33m\u001b[0m\u001b[0m\n",
      "\u001b[1;32m~\\anaconda3\\lib\\site-packages\\dabest\\_api.py\u001b[0m in \u001b[0;36mload\u001b[1;34m(data, idx, x, y, paired, id_col, ci, resamples, random_seed, proportional, delta2, experiment, experiment_label, x1_level, mini_meta)\u001b[0m\n\u001b[0;32m     86\u001b[0m     \u001b[1;32mfrom\u001b[0m \u001b[1;33m.\u001b[0m\u001b[0m_classes\u001b[0m \u001b[1;32mimport\u001b[0m \u001b[0mDabest\u001b[0m\u001b[1;33m\u001b[0m\u001b[1;33m\u001b[0m\u001b[0m\n\u001b[0;32m     87\u001b[0m \u001b[1;33m\u001b[0m\u001b[0m\n\u001b[1;32m---> 88\u001b[1;33m     \u001b[1;32mreturn\u001b[0m \u001b[0mDabest\u001b[0m\u001b[1;33m(\u001b[0m\u001b[0mdata\u001b[0m\u001b[1;33m,\u001b[0m \u001b[0midx\u001b[0m\u001b[1;33m,\u001b[0m \u001b[0mx\u001b[0m\u001b[1;33m,\u001b[0m \u001b[0my\u001b[0m\u001b[1;33m,\u001b[0m \u001b[0mpaired\u001b[0m\u001b[1;33m,\u001b[0m \u001b[0mid_col\u001b[0m\u001b[1;33m,\u001b[0m \u001b[0mci\u001b[0m\u001b[1;33m,\u001b[0m \u001b[0mresamples\u001b[0m\u001b[1;33m,\u001b[0m \u001b[0mrandom_seed\u001b[0m\u001b[1;33m,\u001b[0m \u001b[0mproportional\u001b[0m\u001b[1;33m,\u001b[0m \u001b[0mdelta2\u001b[0m\u001b[1;33m,\u001b[0m \u001b[0mexperiment\u001b[0m\u001b[1;33m,\u001b[0m \u001b[0mexperiment_label\u001b[0m\u001b[1;33m,\u001b[0m \u001b[0mx1_level\u001b[0m\u001b[1;33m,\u001b[0m \u001b[0mmini_meta\u001b[0m\u001b[1;33m)\u001b[0m\u001b[1;33m\u001b[0m\u001b[1;33m\u001b[0m\u001b[0m\n\u001b[0m\u001b[0;32m     89\u001b[0m \u001b[1;33m\u001b[0m\u001b[0m\n",
      "\u001b[1;32m~\\anaconda3\\lib\\site-packages\\dabest\\_classes.py\u001b[0m in \u001b[0;36m__init__\u001b[1;34m(self, data, idx, x, y, paired, id_col, ci, resamples, random_seed, proportional, delta2, experiment, experiment_label, x1_level, mini_meta)\u001b[0m\n\u001b[0;32m    201\u001b[0m             \u001b[1;32mif\u001b[0m \u001b[0mpaired\u001b[0m \u001b[1;32mnot\u001b[0m \u001b[1;32min\u001b[0m \u001b[1;33m(\u001b[0m\u001b[1;34m\"baseline\"\u001b[0m\u001b[1;33m,\u001b[0m \u001b[1;34m\"sequential\"\u001b[0m\u001b[1;33m)\u001b[0m\u001b[1;33m:\u001b[0m\u001b[1;33m\u001b[0m\u001b[1;33m\u001b[0m\u001b[0m\n\u001b[0;32m    202\u001b[0m                 \u001b[0merr\u001b[0m \u001b[1;33m=\u001b[0m \u001b[1;34m'{} assigned for `paired` is not valid.'\u001b[0m\u001b[1;33m.\u001b[0m\u001b[0mformat\u001b[0m\u001b[1;33m(\u001b[0m\u001b[0mpaired\u001b[0m\u001b[1;33m)\u001b[0m\u001b[1;33m\u001b[0m\u001b[1;33m\u001b[0m\u001b[0m\n\u001b[1;32m--> 203\u001b[1;33m                 \u001b[1;32mraise\u001b[0m \u001b[0mValueError\u001b[0m\u001b[1;33m(\u001b[0m\u001b[0merr\u001b[0m\u001b[1;33m)\u001b[0m\u001b[1;33m\u001b[0m\u001b[1;33m\u001b[0m\u001b[0m\n\u001b[0m\u001b[0;32m    204\u001b[0m \u001b[1;33m\u001b[0m\u001b[0m\n\u001b[0;32m    205\u001b[0m \u001b[1;33m\u001b[0m\u001b[0m\n",
      "\u001b[1;31mValueError\u001b[0m: True assigned for `paired` is not valid."
     ]
    }
   ],
   "source": [
    "### This causes an error.\n",
    "\n",
    "contrast_paired_broken = dabest.load(data = dataDf1, x ='LightStatus', y = 'Metric', idx = (('Red Light OffSibling', 'Red Light OffOffspring'),\n",
    "       ('Red Light OnSibling', 'Red Light OnOffspring')), paired = True)\n",
    "contrast_paired_broken.mean_diff"
   ]
  },
  {
   "cell_type": "code",
   "execution_count": 64,
   "id": "7ba076b8",
   "metadata": {},
   "outputs": [],
   "source": [
    "contrast_paired = dabest.load(data = dataDf1, x ='LightStatus', y = 'Metric', \n",
    "                        idx = (('Red Light OffSibling', 'Red Light OnSibling'),\n",
    "       ('Red Light OffOffspring', 'Red Light OnOffspring')), \n",
    "                        paired = 'baseline', id_col = 'PairedID'\n",
    "                       )"
   ]
  },
  {
   "cell_type": "code",
   "execution_count": 66,
   "id": "0a757223",
   "metadata": {},
   "outputs": [
    {
     "data": {
      "text/html": [
       "<div>\n",
       "<style scoped>\n",
       "    .dataframe tbody tr th:only-of-type {\n",
       "        vertical-align: middle;\n",
       "    }\n",
       "\n",
       "    .dataframe tbody tr th {\n",
       "        vertical-align: top;\n",
       "    }\n",
       "\n",
       "    .dataframe thead th {\n",
       "        text-align: right;\n",
       "    }\n",
       "</style>\n",
       "<table border=\"1\" class=\"dataframe\">\n",
       "  <thead>\n",
       "    <tr style=\"text-align: right;\">\n",
       "      <th></th>\n",
       "      <th>control</th>\n",
       "      <th>test</th>\n",
       "      <th>control_N</th>\n",
       "      <th>test_N</th>\n",
       "      <th>effect_size</th>\n",
       "      <th>is_paired</th>\n",
       "      <th>difference</th>\n",
       "      <th>ci</th>\n",
       "      <th>bca_low</th>\n",
       "      <th>bca_high</th>\n",
       "      <th>...</th>\n",
       "      <th>resamples</th>\n",
       "      <th>random_seed</th>\n",
       "      <th>permutations</th>\n",
       "      <th>pvalue_permutation</th>\n",
       "      <th>permutation_count</th>\n",
       "      <th>permutations_var</th>\n",
       "      <th>pvalue_wilcoxon</th>\n",
       "      <th>statistic_wilcoxon</th>\n",
       "      <th>pvalue_paired_students_t</th>\n",
       "      <th>statistic_paired_students_t</th>\n",
       "    </tr>\n",
       "  </thead>\n",
       "  <tbody>\n",
       "    <tr>\n",
       "      <th>0</th>\n",
       "      <td>Red Light OffSibling</td>\n",
       "      <td>Red Light OnSibling</td>\n",
       "      <td>40</td>\n",
       "      <td>40</td>\n",
       "      <td>mean difference</td>\n",
       "      <td>baseline</td>\n",
       "      <td>0.069884</td>\n",
       "      <td>95</td>\n",
       "      <td>-0.056007</td>\n",
       "      <td>0.191479</td>\n",
       "      <td>...</td>\n",
       "      <td>5000</td>\n",
       "      <td>12345</td>\n",
       "      <td>[-0.03508666997952781, -0.04294926541766286, 0...</td>\n",
       "      <td>0.2736</td>\n",
       "      <td>5000</td>\n",
       "      <td>[0.004153349336517733, 0.00414548311870152, 0....</td>\n",
       "      <td>0.294445</td>\n",
       "      <td>332.0</td>\n",
       "      <td>0.280757</td>\n",
       "      <td>-1.09379</td>\n",
       "    </tr>\n",
       "    <tr>\n",
       "      <th>1</th>\n",
       "      <td>Red Light OffOffspring</td>\n",
       "      <td>Red Light OnOffspring</td>\n",
       "      <td>20</td>\n",
       "      <td>20</td>\n",
       "      <td>mean difference</td>\n",
       "      <td>baseline</td>\n",
       "      <td>0.622906</td>\n",
       "      <td>95</td>\n",
       "      <td>0.404573</td>\n",
       "      <td>0.817234</td>\n",
       "      <td>...</td>\n",
       "      <td>5000</td>\n",
       "      <td>12345</td>\n",
       "      <td>[-0.0985620016351908, 0.1775556841617425, -0.0...</td>\n",
       "      <td>0.0000</td>\n",
       "      <td>5000</td>\n",
       "      <td>[0.018895512780314164, 0.01832152454842445, 0....</td>\n",
       "      <td>0.000048</td>\n",
       "      <td>8.0</td>\n",
       "      <td>0.000015</td>\n",
       "      <td>-5.76565</td>\n",
       "    </tr>\n",
       "  </tbody>\n",
       "</table>\n",
       "<p>2 rows × 25 columns</p>\n",
       "</div>"
      ],
      "text/plain": [
       "                  control                   test  control_N  test_N  \\\n",
       "0    Red Light OffSibling    Red Light OnSibling         40      40   \n",
       "1  Red Light OffOffspring  Red Light OnOffspring         20      20   \n",
       "\n",
       "       effect_size is_paired  difference  ci   bca_low  bca_high  ...  \\\n",
       "0  mean difference  baseline    0.069884  95 -0.056007  0.191479  ...   \n",
       "1  mean difference  baseline    0.622906  95  0.404573  0.817234  ...   \n",
       "\n",
       "  resamples  random_seed                                       permutations  \\\n",
       "0      5000        12345  [-0.03508666997952781, -0.04294926541766286, 0...   \n",
       "1      5000        12345  [-0.0985620016351908, 0.1775556841617425, -0.0...   \n",
       "\n",
       "  pvalue_permutation permutation_count  \\\n",
       "0             0.2736              5000   \n",
       "1             0.0000              5000   \n",
       "\n",
       "                                    permutations_var  pvalue_wilcoxon  \\\n",
       "0  [0.004153349336517733, 0.00414548311870152, 0....         0.294445   \n",
       "1  [0.018895512780314164, 0.01832152454842445, 0....         0.000048   \n",
       "\n",
       "  statistic_wilcoxon  pvalue_paired_students_t  statistic_paired_students_t  \n",
       "0              332.0                  0.280757                     -1.09379  \n",
       "1                8.0                  0.000015                     -5.76565  \n",
       "\n",
       "[2 rows x 25 columns]"
      ]
     },
     "execution_count": 66,
     "metadata": {},
     "output_type": "execute_result"
    },
    {
     "name": "stderr",
     "output_type": "stream",
     "text": [
      "C:\\Users\\maiyi\\anaconda3\\lib\\site-packages\\IPython\\core\\pylabtools.py:151: UserWarning: This figure includes Axes that are not compatible with tight_layout, so results might be incorrect.\n",
      "  fig.canvas.print_figure(bytes_io, **kw)\n"
     ]
    },
    {
     "data": {
      "image/png": "[encoded data removed]",
      "text/plain": [
       "<Figure size 450x600 with 2 Axes>"
      ]
     },
     "metadata": {
      "needs_background": "light"
     },
     "output_type": "display_data"
    }
   ],
   "source": [
    "contrast_paired.mean_diff\n",
    "f_paired = contrast_paired.mean_diff.plot()\n",
    "contrast_paired.mean_diff.results"
   ]
  },
  {
   "cell_type": "markdown",
   "id": "8bd8f7f1-eb37-46d4-bd89-864c3eff8ae0",
   "metadata": {},
   "source": [
    "#### dabest.mean_diff.statistical_tests attribute is broken\n",
    "\n",
    "`dabest.mean_diff.statistical_tests` outputs an error: \"['is_paired'] not in index\"\n",
    "\n",
    "`dabest.mean_diff.statistical_tests` DOES actually work when data is paired, but not when it is unpaired. So it is likely this broke at some point due to the implementation of the new arguments for processing paired data.\n",
    "While the results of statistical tests can be accessed via `.mean_diff.results`, running `.mean_diff` still instructs the user:\n",
    "\n",
    "\"To get the results of all valid statistical tests, use `.mean_diff.statistical_tests`\"\n",
    "\n",
    "which does not function properly.\n",
    "\n"
   ]
  },
  {
   "cell_type": "markdown",
   "id": "4345b1e8-f9d1-4972-91bf-dc511d71a0a4",
   "metadata": {},
   "source": [
    "##### Example: paired data (`.mean_diff.statistical_tests` does work)"
   ]
  },
  {
   "cell_type": "code",
   "execution_count": 67,
   "id": "2361293e-6752-4bb2-9dca-9f30703cacc0",
   "metadata": {},
   "outputs": [
    {
     "data": {
      "text/plain": [
       "DABEST v0.3.9999\n",
       "================\n",
       "                \n",
       "Good morning!\n",
       "The current time is Mon Oct 24 11:28:23 2022.\n",
       "\n",
       "The paired mean difference for repeated measures against baseline \n",
       "between Red Light OffSibling and Red Light OnSibling is 0.0699 [95%CI -0.056, 0.191].\n",
       "The p-value of the two-sided permutation t-test is 0.274, calculated for legacy purposes only. \n",
       "\n",
       "The paired mean difference for repeated measures against baseline \n",
       "between Red Light OffOffspring and Red Light OnOffspring is 0.623 [95%CI 0.405, 0.817].\n",
       "The p-value of the two-sided permutation t-test is 0.0, calculated for legacy purposes only. \n",
       "\n",
       "5000 bootstrap samples were taken; the confidence interval is bias-corrected and accelerated.\n",
       "Any p-value reported is the probability of observing theeffect size (or greater),\n",
       "assuming the null hypothesis ofzero difference is true.\n",
       "For each p-value, 5000 reshuffles of the control and test labels were performed.\n",
       "\n",
       "To get the results of all valid statistical tests, use `.mean_diff.statistical_tests`"
      ]
     },
     "execution_count": 67,
     "metadata": {},
     "output_type": "execute_result"
    }
   ],
   "source": [
    "contrast_paired.mean_diff"
   ]
  },
  {
   "cell_type": "code",
   "execution_count": 68,
   "id": "ef533315",
   "metadata": {},
   "outputs": [
    {
     "data": {
      "text/html": [
       "<div>\n",
       "<style scoped>\n",
       "    .dataframe tbody tr th:only-of-type {\n",
       "        vertical-align: middle;\n",
       "    }\n",
       "\n",
       "    .dataframe tbody tr th {\n",
       "        vertical-align: top;\n",
       "    }\n",
       "\n",
       "    .dataframe thead th {\n",
       "        text-align: right;\n",
       "    }\n",
       "</style>\n",
       "<table border=\"1\" class=\"dataframe\">\n",
       "  <thead>\n",
       "    <tr style=\"text-align: right;\">\n",
       "      <th></th>\n",
       "      <th>control</th>\n",
       "      <th>test</th>\n",
       "      <th>control_N</th>\n",
       "      <th>test_N</th>\n",
       "      <th>effect_size</th>\n",
       "      <th>is_paired</th>\n",
       "      <th>difference</th>\n",
       "      <th>ci</th>\n",
       "      <th>bca_low</th>\n",
       "      <th>bca_high</th>\n",
       "      <th>pvalue_permutation</th>\n",
       "      <th>pvalue_wilcoxon</th>\n",
       "      <th>statistic_wilcoxon</th>\n",
       "      <th>pvalue_paired_students_t</th>\n",
       "      <th>statistic_paired_students_t</th>\n",
       "    </tr>\n",
       "  </thead>\n",
       "  <tbody>\n",
       "    <tr>\n",
       "      <th>0</th>\n",
       "      <td>Red Light OffSibling</td>\n",
       "      <td>Red Light OnSibling</td>\n",
       "      <td>40</td>\n",
       "      <td>40</td>\n",
       "      <td>mean difference</td>\n",
       "      <td>baseline</td>\n",
       "      <td>0.069884</td>\n",
       "      <td>95</td>\n",
       "      <td>-0.056007</td>\n",
       "      <td>0.191479</td>\n",
       "      <td>0.2736</td>\n",
       "      <td>0.294445</td>\n",
       "      <td>332.0</td>\n",
       "      <td>0.280757</td>\n",
       "      <td>-1.09379</td>\n",
       "    </tr>\n",
       "    <tr>\n",
       "      <th>1</th>\n",
       "      <td>Red Light OffOffspring</td>\n",
       "      <td>Red Light OnOffspring</td>\n",
       "      <td>20</td>\n",
       "      <td>20</td>\n",
       "      <td>mean difference</td>\n",
       "      <td>baseline</td>\n",
       "      <td>0.622906</td>\n",
       "      <td>95</td>\n",
       "      <td>0.404573</td>\n",
       "      <td>0.817234</td>\n",
       "      <td>0.0000</td>\n",
       "      <td>0.000048</td>\n",
       "      <td>8.0</td>\n",
       "      <td>0.000015</td>\n",
       "      <td>-5.76565</td>\n",
       "    </tr>\n",
       "  </tbody>\n",
       "</table>\n",
       "</div>"
      ],
      "text/plain": [
       "                  control                   test  control_N  test_N  \\\n",
       "0    Red Light OffSibling    Red Light OnSibling         40      40   \n",
       "1  Red Light OffOffspring  Red Light OnOffspring         20      20   \n",
       "\n",
       "       effect_size is_paired  difference  ci   bca_low  bca_high  \\\n",
       "0  mean difference  baseline    0.069884  95 -0.056007  0.191479   \n",
       "1  mean difference  baseline    0.622906  95  0.404573  0.817234   \n",
       "\n",
       "   pvalue_permutation  pvalue_wilcoxon  statistic_wilcoxon  \\\n",
       "0              0.2736         0.294445               332.0   \n",
       "1              0.0000         0.000048                 8.0   \n",
       "\n",
       "   pvalue_paired_students_t  statistic_paired_students_t  \n",
       "0                  0.280757                     -1.09379  \n",
       "1                  0.000015                     -5.76565  "
      ]
     },
     "execution_count": 68,
     "metadata": {},
     "output_type": "execute_result"
    }
   ],
   "source": [
    "contrast_paired.mean_diff.statistical_tests"
   ]
  },
  {
   "cell_type": "markdown",
   "id": "3f888efd-745d-4a5f-ae27-574c2d96a468",
   "metadata": {},
   "source": [
    "##### Example: unpaired data (`.mean_diff.statistical_tests` does NOT work)"
   ]
  },
  {
   "cell_type": "code",
   "execution_count": 69,
   "id": "9479a9f4-1706-4f59-ab2d-ec95f5fa12d4",
   "metadata": {},
   "outputs": [
    {
     "data": {
      "text/html": [
       "<div>\n",
       "<style scoped>\n",
       "    .dataframe tbody tr th:only-of-type {\n",
       "        vertical-align: middle;\n",
       "    }\n",
       "\n",
       "    .dataframe tbody tr th {\n",
       "        vertical-align: top;\n",
       "    }\n",
       "\n",
       "    .dataframe thead th {\n",
       "        text-align: right;\n",
       "    }\n",
       "</style>\n",
       "<table border=\"1\" class=\"dataframe\">\n",
       "  <thead>\n",
       "    <tr style=\"text-align: right;\">\n",
       "      <th></th>\n",
       "      <th>control</th>\n",
       "      <th>test</th>\n",
       "      <th>control_N</th>\n",
       "      <th>test_N</th>\n",
       "      <th>effect_size</th>\n",
       "      <th>difference</th>\n",
       "      <th>ci</th>\n",
       "      <th>bca_low</th>\n",
       "      <th>bca_high</th>\n",
       "      <th>bca_interval_idx</th>\n",
       "      <th>...</th>\n",
       "      <th>permutations</th>\n",
       "      <th>pvalue_permutation</th>\n",
       "      <th>permutation_count</th>\n",
       "      <th>permutations_var</th>\n",
       "      <th>pvalue_welch</th>\n",
       "      <th>statistic_welch</th>\n",
       "      <th>pvalue_students_t</th>\n",
       "      <th>statistic_students_t</th>\n",
       "      <th>pvalue_mann_whitney</th>\n",
       "      <th>statistic_mann_whitney</th>\n",
       "    </tr>\n",
       "  </thead>\n",
       "  <tbody>\n",
       "    <tr>\n",
       "      <th>0</th>\n",
       "      <td>Red Light OffSibling</td>\n",
       "      <td>Red Light OffOffspring</td>\n",
       "      <td>40</td>\n",
       "      <td>20</td>\n",
       "      <td>mean difference</td>\n",
       "      <td>-0.140313</td>\n",
       "      <td>95</td>\n",
       "      <td>-0.303120</td>\n",
       "      <td>0.019293</td>\n",
       "      <td>(128, 4878)</td>\n",
       "      <td>...</td>\n",
       "      <td>[-0.08677791475180774, -0.08465622359054836, -...</td>\n",
       "      <td>0.0938</td>\n",
       "      <td>5000</td>\n",
       "      <td>[0.006116893370582743, 0.0074812722891417095, ...</td>\n",
       "      <td>0.104258</td>\n",
       "      <td>1.668362</td>\n",
       "      <td>0.088861</td>\n",
       "      <td>1.730487</td>\n",
       "      <td>0.083135</td>\n",
       "      <td>511.0</td>\n",
       "    </tr>\n",
       "    <tr>\n",
       "      <th>1</th>\n",
       "      <td>Red Light OnSibling</td>\n",
       "      <td>Red Light OnOffspring</td>\n",
       "      <td>40</td>\n",
       "      <td>20</td>\n",
       "      <td>mean difference</td>\n",
       "      <td>0.412709</td>\n",
       "      <td>95</td>\n",
       "      <td>0.266302</td>\n",
       "      <td>0.562394</td>\n",
       "      <td>(130, 4880)</td>\n",
       "      <td>...</td>\n",
       "      <td>[0.07038674934054112, -0.13284906495220283, -0...</td>\n",
       "      <td>0.0000</td>\n",
       "      <td>5000</td>\n",
       "      <td>[0.009409946087692161, 0.008470857374211696, 0...</td>\n",
       "      <td>0.000004</td>\n",
       "      <td>-5.339787</td>\n",
       "      <td>0.000002</td>\n",
       "      <td>-5.283120</td>\n",
       "      <td>0.000022</td>\n",
       "      <td>129.0</td>\n",
       "    </tr>\n",
       "  </tbody>\n",
       "</table>\n",
       "<p>2 rows × 26 columns</p>\n",
       "</div>"
      ],
      "text/plain": [
       "                control                    test  control_N  test_N  \\\n",
       "0  Red Light OffSibling  Red Light OffOffspring         40      20   \n",
       "1   Red Light OnSibling   Red Light OnOffspring         40      20   \n",
       "\n",
       "       effect_size  difference  ci   bca_low  bca_high bca_interval_idx  ...  \\\n",
       "0  mean difference   -0.140313  95 -0.303120  0.019293      (128, 4878)  ...   \n",
       "1  mean difference    0.412709  95  0.266302  0.562394      (130, 4880)  ...   \n",
       "\n",
       "                                        permutations  pvalue_permutation  \\\n",
       "0  [-0.08677791475180774, -0.08465622359054836, -...              0.0938   \n",
       "1  [0.07038674934054112, -0.13284906495220283, -0...              0.0000   \n",
       "\n",
       "  permutation_count                                   permutations_var  \\\n",
       "0              5000  [0.006116893370582743, 0.0074812722891417095, ...   \n",
       "1              5000  [0.009409946087692161, 0.008470857374211696, 0...   \n",
       "\n",
       "   pvalue_welch  statistic_welch pvalue_students_t  statistic_students_t  \\\n",
       "0      0.104258         1.668362          0.088861              1.730487   \n",
       "1      0.000004        -5.339787          0.000002             -5.283120   \n",
       "\n",
       "   pvalue_mann_whitney statistic_mann_whitney  \n",
       "0             0.083135                  511.0  \n",
       "1             0.000022                  129.0  \n",
       "\n",
       "[2 rows x 26 columns]"
      ]
     },
     "execution_count": 69,
     "metadata": {},
     "output_type": "execute_result"
    }
   ],
   "source": [
    "contrast_unpaired.mean_diff.results"
   ]
  },
  {
   "cell_type": "code",
   "execution_count": 70,
   "id": "3d2e1fca-df09-4bd9-ae8a-c14ecee4d3a1",
   "metadata": {},
   "outputs": [
    {
     "ename": "KeyError",
     "evalue": "\"['is_paired'] not in index\"",
     "output_type": "error",
     "traceback": [
      "\u001b[1;31m---------------------------------------------------------------------------\u001b[0m",
      "\u001b[1;31mKeyError\u001b[0m                                  Traceback (most recent call last)",
      "\u001b[1;32m~\\AppData\\Local\\Temp/ipykernel_17296/3685965372.py\u001b[0m in \u001b[0;36m<module>\u001b[1;34m\u001b[0m\n\u001b[1;32m----> 1\u001b[1;33m \u001b[0mcontrast_unpaired\u001b[0m\u001b[1;33m.\u001b[0m\u001b[0mmean_diff\u001b[0m\u001b[1;33m.\u001b[0m\u001b[0mstatistical_tests\u001b[0m\u001b[1;33m\u001b[0m\u001b[1;33m\u001b[0m\u001b[0m\n\u001b[0m",
      "\u001b[1;32m~\\anaconda3\\lib\\site-packages\\dabest\\_classes.py\u001b[0m in \u001b[0;36mstatistical_tests\u001b[1;34m(self)\u001b[0m\n\u001b[0;32m   2808\u001b[0m         \u001b[0mcols_of_interest\u001b[0m \u001b[1;33m=\u001b[0m \u001b[0mdefault_cols\u001b[0m \u001b[1;33m+\u001b[0m \u001b[0mstats_columns\u001b[0m\u001b[1;33m\u001b[0m\u001b[1;33m\u001b[0m\u001b[0m\n\u001b[0;32m   2809\u001b[0m \u001b[1;33m\u001b[0m\u001b[0m\n\u001b[1;32m-> 2810\u001b[1;33m         \u001b[1;32mreturn\u001b[0m \u001b[0mresults_df\u001b[0m\u001b[1;33m[\u001b[0m\u001b[0mcols_of_interest\u001b[0m\u001b[1;33m]\u001b[0m\u001b[1;33m\u001b[0m\u001b[1;33m\u001b[0m\u001b[0m\n\u001b[0m\u001b[0;32m   2811\u001b[0m \u001b[1;33m\u001b[0m\u001b[0m\n\u001b[0;32m   2812\u001b[0m \u001b[1;33m\u001b[0m\u001b[0m\n",
      "\u001b[1;32m~\\anaconda3\\lib\\site-packages\\pandas\\core\\frame.py\u001b[0m in \u001b[0;36m__getitem__\u001b[1;34m(self, key)\u001b[0m\n\u001b[0;32m   3462\u001b[0m             \u001b[1;32mif\u001b[0m \u001b[0mis_iterator\u001b[0m\u001b[1;33m(\u001b[0m\u001b[0mkey\u001b[0m\u001b[1;33m)\u001b[0m\u001b[1;33m:\u001b[0m\u001b[1;33m\u001b[0m\u001b[1;33m\u001b[0m\u001b[0m\n\u001b[0;32m   3463\u001b[0m                 \u001b[0mkey\u001b[0m \u001b[1;33m=\u001b[0m \u001b[0mlist\u001b[0m\u001b[1;33m(\u001b[0m\u001b[0mkey\u001b[0m\u001b[1;33m)\u001b[0m\u001b[1;33m\u001b[0m\u001b[1;33m\u001b[0m\u001b[0m\n\u001b[1;32m-> 3464\u001b[1;33m             \u001b[0mindexer\u001b[0m \u001b[1;33m=\u001b[0m \u001b[0mself\u001b[0m\u001b[1;33m.\u001b[0m\u001b[0mloc\u001b[0m\u001b[1;33m.\u001b[0m\u001b[0m_get_listlike_indexer\u001b[0m\u001b[1;33m(\u001b[0m\u001b[0mkey\u001b[0m\u001b[1;33m,\u001b[0m \u001b[0maxis\u001b[0m\u001b[1;33m=\u001b[0m\u001b[1;36m1\u001b[0m\u001b[1;33m)\u001b[0m\u001b[1;33m[\u001b[0m\u001b[1;36m1\u001b[0m\u001b[1;33m]\u001b[0m\u001b[1;33m\u001b[0m\u001b[1;33m\u001b[0m\u001b[0m\n\u001b[0m\u001b[0;32m   3465\u001b[0m \u001b[1;33m\u001b[0m\u001b[0m\n\u001b[0;32m   3466\u001b[0m         \u001b[1;31m# take() does not accept boolean indexers\u001b[0m\u001b[1;33m\u001b[0m\u001b[1;33m\u001b[0m\u001b[0m\n",
      "\u001b[1;32m~\\anaconda3\\lib\\site-packages\\pandas\\core\\indexing.py\u001b[0m in \u001b[0;36m_get_listlike_indexer\u001b[1;34m(self, key, axis)\u001b[0m\n\u001b[0;32m   1312\u001b[0m             \u001b[0mkeyarr\u001b[0m\u001b[1;33m,\u001b[0m \u001b[0mindexer\u001b[0m\u001b[1;33m,\u001b[0m \u001b[0mnew_indexer\u001b[0m \u001b[1;33m=\u001b[0m \u001b[0max\u001b[0m\u001b[1;33m.\u001b[0m\u001b[0m_reindex_non_unique\u001b[0m\u001b[1;33m(\u001b[0m\u001b[0mkeyarr\u001b[0m\u001b[1;33m)\u001b[0m\u001b[1;33m\u001b[0m\u001b[1;33m\u001b[0m\u001b[0m\n\u001b[0;32m   1313\u001b[0m \u001b[1;33m\u001b[0m\u001b[0m\n\u001b[1;32m-> 1314\u001b[1;33m         \u001b[0mself\u001b[0m\u001b[1;33m.\u001b[0m\u001b[0m_validate_read_indexer\u001b[0m\u001b[1;33m(\u001b[0m\u001b[0mkeyarr\u001b[0m\u001b[1;33m,\u001b[0m \u001b[0mindexer\u001b[0m\u001b[1;33m,\u001b[0m \u001b[0maxis\u001b[0m\u001b[1;33m)\u001b[0m\u001b[1;33m\u001b[0m\u001b[1;33m\u001b[0m\u001b[0m\n\u001b[0m\u001b[0;32m   1315\u001b[0m \u001b[1;33m\u001b[0m\u001b[0m\n\u001b[0;32m   1316\u001b[0m         if needs_i8_conversion(ax.dtype) or isinstance(\n",
      "\u001b[1;32m~\\anaconda3\\lib\\site-packages\\pandas\\core\\indexing.py\u001b[0m in \u001b[0;36m_validate_read_indexer\u001b[1;34m(self, key, indexer, axis)\u001b[0m\n\u001b[0;32m   1375\u001b[0m \u001b[1;33m\u001b[0m\u001b[0m\n\u001b[0;32m   1376\u001b[0m             \u001b[0mnot_found\u001b[0m \u001b[1;33m=\u001b[0m \u001b[0mlist\u001b[0m\u001b[1;33m(\u001b[0m\u001b[0mensure_index\u001b[0m\u001b[1;33m(\u001b[0m\u001b[0mkey\u001b[0m\u001b[1;33m)\u001b[0m\u001b[1;33m[\u001b[0m\u001b[0mmissing_mask\u001b[0m\u001b[1;33m.\u001b[0m\u001b[0mnonzero\u001b[0m\u001b[1;33m(\u001b[0m\u001b[1;33m)\u001b[0m\u001b[1;33m[\u001b[0m\u001b[1;36m0\u001b[0m\u001b[1;33m]\u001b[0m\u001b[1;33m]\u001b[0m\u001b[1;33m.\u001b[0m\u001b[0munique\u001b[0m\u001b[1;33m(\u001b[0m\u001b[1;33m)\u001b[0m\u001b[1;33m)\u001b[0m\u001b[1;33m\u001b[0m\u001b[1;33m\u001b[0m\u001b[0m\n\u001b[1;32m-> 1377\u001b[1;33m             \u001b[1;32mraise\u001b[0m \u001b[0mKeyError\u001b[0m\u001b[1;33m(\u001b[0m\u001b[1;34mf\"{not_found} not in index\"\u001b[0m\u001b[1;33m)\u001b[0m\u001b[1;33m\u001b[0m\u001b[1;33m\u001b[0m\u001b[0m\n\u001b[0m\u001b[0;32m   1378\u001b[0m \u001b[1;33m\u001b[0m\u001b[0m\n\u001b[0;32m   1379\u001b[0m \u001b[1;33m\u001b[0m\u001b[0m\n",
      "\u001b[1;31mKeyError\u001b[0m: \"['is_paired'] not in index\""
     ]
    }
   ],
   "source": [
    "contrast_unpaired.mean_diff.statistical_tests"
   ]
  },
  {
   "cell_type": "code",
   "execution_count": 17,
   "id": "e776dab8-388b-4556-939b-766c702eaf59",
   "metadata": {},
   "outputs": [],
   "source": [
    "dabest.load?"
   ]
  },
  {
   "cell_type": "code",
   "execution_count": null,
   "id": "89018cc6-549f-4dfd-9bbc-c9513dd7664d",
   "metadata": {},
   "outputs": [],
   "source": []
  }
 ],
 "metadata": {
  "kernelspec": {
   "display_name": "Python 3 (ipykernel)",
   "language": "python",
   "name": "python3"
  },
  "language_info": {
   "codemirror_mode": {
    "name": "ipython",
    "version": 3
   },
   "file_extension": ".py",
   "mimetype": "text/x-python",
   "name": "python",
   "nbconvert_exporter": "python",
   "pygments_lexer": "ipython3",
   "version": "3.9.7"
  }
 },
 "nbformat": 4,
 "nbformat_minor": 5
}
